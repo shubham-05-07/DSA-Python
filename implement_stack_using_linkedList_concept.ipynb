{
 "cells": [
  {
   "cell_type": "code",
   "execution_count": 2,
   "metadata": {},
   "outputs": [],
   "source": [
    "class Node:\n",
    "    def __init__(self,data=None,next=None):\n",
    "        self.data = data\n",
    "        self.next = next\n",
    "\n",
    "class Stack:\n",
    "    def __init__(self,start=None):\n",
    "        self.start = start\n",
    "\n",
    "    def insert(self,data):\n",
    "        new_node = Node(data)\n",
    "        if self.start == None:\n",
    "            self.start = new_node\n",
    "        else:\n",
    "            new_node.next = self.start\n",
    "            self.start = new_node\n",
    "    def pop(self):\n",
    "        if self.start == None:\n",
    "            raise IndexError(\"List is empty.\")\n",
    "        else:\n",
    "            self.start = self.start.next\n",
    "    def peek(self):\n",
    "        if self.start!= None:\n",
    "            print(self.start.data)\n",
    "        else:\n",
    "            raise IndexError(\"Stack is empty.\")\n",
    "    def count(self):\n",
    "        count = 0\n",
    "        if self.start != None:\n",
    "            temp = self.start\n",
    "            while temp!= None:\n",
    "                count +=1\n",
    "                temp = temp.next\n",
    "        print(count)\n"
   ]
  },
  {
   "cell_type": "code",
   "execution_count": 11,
   "metadata": {},
   "outputs": [
    {
     "name": "stdout",
     "output_type": "stream",
     "text": [
      "5\n",
      "10\n",
      "3\n"
     ]
    }
   ],
   "source": [
    "s = Stack()\n",
    "s.insert(30)\n",
    "s.insert(20)\n",
    "s.insert(10)\n",
    "s.insert(5)\n",
    "s.peek()\n",
    "s.pop()\n",
    "s.peek()\n",
    "s.count()"
   ]
  }
 ],
 "metadata": {
  "kernelspec": {
   "display_name": "Python 3",
   "language": "python",
   "name": "python3"
  },
  "language_info": {
   "codemirror_mode": {
    "name": "ipython",
    "version": 3
   },
   "file_extension": ".py",
   "mimetype": "text/x-python",
   "name": "python",
   "nbconvert_exporter": "python",
   "pygments_lexer": "ipython3",
   "version": "3.10.6"
  }
 },
 "nbformat": 4,
 "nbformat_minor": 2
}

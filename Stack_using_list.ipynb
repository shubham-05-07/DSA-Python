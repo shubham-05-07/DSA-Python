{
 "cells": [
  {
   "cell_type": "code",
   "execution_count": 22,
   "metadata": {},
   "outputs": [],
   "source": [
    "class stack:\n",
    "    def __init__(self):\n",
    "        self.stk = []\n",
    "    \n",
    "    def is_empty(self):\n",
    "        if self.stk:\n",
    "            return False\n",
    "        return True\n",
    "    def push(self,data):\n",
    "        self.stk.insert(0,data)\n",
    "    def peek(self):\n",
    "        if self.stk:\n",
    "            print(self.stk[0])\n",
    "        else:\n",
    "            print(\"Stack is empty\")\n",
    "    def pop(self):\n",
    "        del self.stk[0]\n",
    "    def stack_len(self):\n",
    "        print(len(self.stk))\n"
   ]
  },
  {
   "cell_type": "code",
   "execution_count": 23,
   "metadata": {},
   "outputs": [
    {
     "name": "stdout",
     "output_type": "stream",
     "text": [
      "5\n",
      "4\n"
     ]
    },
    {
     "data": {
      "text/plain": [
       "False"
      ]
     },
     "execution_count": 23,
     "metadata": {},
     "output_type": "execute_result"
    }
   ],
   "source": [
    "s = stack()\n",
    "s.push(30)\n",
    "s.push(20)\n",
    "s.push(10)\n",
    "s.push(5)\n",
    "s.push(1)   \n",
    "s.push(0)\n",
    "# list has following elements [0,1,5,10,20,30]\n",
    "s.pop()\n",
    "# after poping the list has [1,5,10,20,30] elements\n",
    "s.pop()\n",
    "s.peek()\n",
    "s.stack_len()\n",
    "s.is_empty()"
   ]
  }
 ],
 "metadata": {
  "kernelspec": {
   "display_name": "Python 3",
   "language": "python",
   "name": "python3"
  },
  "language_info": {
   "codemirror_mode": {
    "name": "ipython",
    "version": 3
   },
   "file_extension": ".py",
   "mimetype": "text/x-python",
   "name": "python",
   "nbconvert_exporter": "python",
   "pygments_lexer": "ipython3",
   "version": "3.10.6"
  }
 },
 "nbformat": 4,
 "nbformat_minor": 2
}

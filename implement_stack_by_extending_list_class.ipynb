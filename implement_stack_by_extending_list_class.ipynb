{
 "cells": [
  {
   "cell_type": "code",
   "execution_count": 7,
   "metadata": {},
   "outputs": [],
   "source": [
    "class stack(list):\n",
    "    def is_empty(self):\n",
    "        return len(self) == 0\n",
    "    def push(self,data):\n",
    "        self.append(data)\n",
    "    def pop(self):\n",
    "        if self:\n",
    "            super().pop()\n",
    "        else:\n",
    "            raise IndexError(\"Stack is empty\")\n",
    "    def stack_len(self):\n",
    "        if self:\n",
    "            print(len(self))\n",
    "        else:\n",
    "            print(0)\n",
    "    def peek(self):\n",
    "        if self:\n",
    "            print(self[-1])\n",
    "    def insert(self,indx,data):\n",
    "        raise AttributeError(\"Attribute not found.\")\n",
    "    \n",
    "    "
   ]
  },
  {
   "cell_type": "code",
   "execution_count": 8,
   "metadata": {},
   "outputs": [
    {
     "ename": "AttributeError",
     "evalue": "Attribute not found.",
     "output_type": "error",
     "traceback": [
      "\u001b[1;31m---------------------------------------------------------------------------\u001b[0m",
      "\u001b[1;31mAttributeError\u001b[0m                            Traceback (most recent call last)",
      "Cell \u001b[1;32mIn[8], line 8\u001b[0m\n\u001b[0;32m      6\u001b[0m s\u001b[38;5;241m.\u001b[39mpush(\u001b[38;5;241m10\u001b[39m)\n\u001b[0;32m      7\u001b[0m s\u001b[38;5;241m.\u001b[39mpop()\n\u001b[1;32m----> 8\u001b[0m \u001b[43ms\u001b[49m\u001b[38;5;241;43m.\u001b[39;49m\u001b[43minsert\u001b[49m\u001b[43m(\u001b[49m\u001b[38;5;241;43m0\u001b[39;49m\u001b[43m,\u001b[49m\u001b[38;5;241;43m45\u001b[39;49m\u001b[43m)\u001b[49m\n\u001b[0;32m      9\u001b[0m s\u001b[38;5;241m.\u001b[39mpeek()\n",
      "Cell \u001b[1;32mIn[7], line 20\u001b[0m, in \u001b[0;36mstack.insert\u001b[1;34m(self, indx, data)\u001b[0m\n\u001b[0;32m     19\u001b[0m \u001b[38;5;28;01mdef\u001b[39;00m \u001b[38;5;21minsert\u001b[39m(\u001b[38;5;28mself\u001b[39m,indx,data):\n\u001b[1;32m---> 20\u001b[0m     \u001b[38;5;28;01mraise\u001b[39;00m \u001b[38;5;167;01mAttributeError\u001b[39;00m(\u001b[38;5;124m\"\u001b[39m\u001b[38;5;124mAttribute not found.\u001b[39m\u001b[38;5;124m\"\u001b[39m)\n",
      "\u001b[1;31mAttributeError\u001b[0m: Attribute not found."
     ]
    }
   ],
   "source": [
    "s = stack()\n",
    "s.push(50)\n",
    "s.push(40)\n",
    "s.push(30)\n",
    "s.push(20)\n",
    "s.push(10)\n",
    "s.pop()\n",
    "s.insert(0,45)\n",
    "s.peek()"
   ]
  }
 ],
 "metadata": {
  "kernelspec": {
   "display_name": "Python 3",
   "language": "python",
   "name": "python3"
  },
  "language_info": {
   "codemirror_mode": {
    "name": "ipython",
    "version": 3
   },
   "file_extension": ".py",
   "mimetype": "text/x-python",
   "name": "python",
   "nbconvert_exporter": "python",
   "pygments_lexer": "ipython3",
   "version": "3.10.6"
  }
 },
 "nbformat": 4,
 "nbformat_minor": 2
}
